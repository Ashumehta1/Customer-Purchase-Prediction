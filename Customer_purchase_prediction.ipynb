{
 "cells": [
  {
   "cell_type": "markdown",
   "id": "7126a701",
   "metadata": {},
   "source": [
    "# Problem Statement"
   ]
  },
  {
   "cell_type": "markdown",
   "id": "099427be",
   "metadata": {},
   "source": [
    "A retail company “ABC Private Limited” wants to understand the customer purchase behaviour (specifically, purchase amount) against various products of different categories. They have shared purchase summary of various customers for selected high volume products from last month. The data set also contains customer demographics (age, gender, marital status, city_type, stay_in_current_city), product details (product_id and product category) and Total purchase_amount from last month.\n",
    "Now, they want to build a model to predict the purchase amount of customer against various products which will help them to create personalized offer for customers against different products.\n"
   ]
  },
  {
   "cell_type": "markdown",
   "id": "c7ff2e69",
   "metadata": {},
   "source": [
    "# Problem Understanding\n",
    "Company: ABC Private Limited (retail sector).\n",
    "\n",
    "Goal: Predict customer purchase amount for different products.\n",
    "\n",
    "Use Case: Personalized offers and targeted marketing.\n",
    "\n",
    "Data: Customer demographics + product details + past purchase amounts."
   ]
  },
  {
   "cell_type": "markdown",
   "id": "75115054",
   "metadata": {},
   "source": []
  }
 ],
 "metadata": {
  "language_info": {
   "name": "python"
  }
 },
 "nbformat": 4,
 "nbformat_minor": 5
}
